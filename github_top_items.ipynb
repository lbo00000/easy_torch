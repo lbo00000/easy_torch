{
 "cells": [
  {
   "cell_type": "code",
   "execution_count": 5,
   "id": "503616a7-4254-4dc6-9c0b-892d2163a75a",
   "metadata": {},
   "outputs": [],
   "source": [
    "import requests\n",
    "import pandas as pd"
   ]
  },
  {
   "cell_type": "code",
   "execution_count": 81,
   "id": "643a5d92-9860-48ba-8341-9f96d0eb9f3c",
   "metadata": {},
   "outputs": [],
   "source": [
    "pd.set_option('display.max_rows', 1000)\n",
    "# pd.reset_option('display.max_rows', 1000)"
   ]
  },
  {
   "cell_type": "code",
   "execution_count": 67,
   "id": "4f5ef8f4-4e23-49a1-9d36-d78c1d8c5826",
   "metadata": {},
   "outputs": [],
   "source": [
    "def get_items(year):\n",
    "    url = 'https://api.github.com/search/repositories?q=language:python+created:{}..{}&sort=stars&order=desc&per_page=100&page=1'.format(year, year)\n",
    "    res = requests.get(url)\n",
    "    res_dict = res.json()\n",
    "    repos = res_dict.get('items', [])\n",
    "    return repos"
   ]
  },
  {
   "cell_type": "code",
   "execution_count": 70,
   "id": "a6c5cac3-c164-49a2-a541-e0054b2ddd4e",
   "metadata": {
    "scrolled": true
   },
   "outputs": [],
   "source": [
    "all_repos = []\n",
    "for y in range(2015, 2024):\n",
    "    repos = get_items(y)\n",
    "    all_repos.extend(repos)\n",
    "repo_df = pd.DataFrame(all_repos)\n",
    "repo_df = repo_df[['name', 'html_url', 'created_at', 'stargazers_count']]\n",
    "repo_df['created_at'] = pd.to_datetime(repo_df['created_at'])\n",
    "repo_df['created_year'] = repo_df['created_at'].dt.year\n",
    "repo_df = repo_df.sort_values(by='stargazers_count', ascending=False).reset_index()\n",
    "repo_df = repo_df[['name', 'html_url', 'created_year', 'stargazers_count']]"
   ]
  },
  {
   "cell_type": "code",
   "execution_count": 84,
   "id": "5f433c2c-5f80-4faf-aca9-71ed13186f83",
   "metadata": {},
   "outputs": [],
   "source": [
    "repo_df.to_csv(\"data\\\\top_github_item.csv\", index=False)"
   ]
  },
  {
   "cell_type": "code",
   "execution_count": null,
   "id": "c43f6405-8253-4c8d-b06f-6e4e4a62b109",
   "metadata": {},
   "outputs": [],
   "source": []
  },
  {
   "cell_type": "code",
   "execution_count": null,
   "id": "9de5582a-4951-478c-bf9a-f7f6a97edca1",
   "metadata": {},
   "outputs": [],
   "source": []
  },
  {
   "cell_type": "code",
   "execution_count": null,
   "id": "705d2b4a-1e07-495c-a535-014780da98bf",
   "metadata": {},
   "outputs": [],
   "source": []
  },
  {
   "cell_type": "code",
   "execution_count": null,
   "id": "c75a4cac-4f58-47ed-80d2-262f3a90d680",
   "metadata": {},
   "outputs": [],
   "source": []
  },
  {
   "cell_type": "code",
   "execution_count": null,
   "id": "0cb460a0-536d-48e8-bbd2-90b04588d249",
   "metadata": {},
   "outputs": [],
   "source": []
  },
  {
   "cell_type": "code",
   "execution_count": null,
   "id": "cf2e1829-6d6c-4aec-8c9b-f73813173bb5",
   "metadata": {},
   "outputs": [],
   "source": []
  },
  {
   "cell_type": "code",
   "execution_count": null,
   "id": "80e4c735-0097-47f2-b0d9-abb06130152f",
   "metadata": {},
   "outputs": [],
   "source": []
  },
  {
   "cell_type": "code",
   "execution_count": null,
   "id": "375a47a8-fc93-4b58-b893-1ed704f91814",
   "metadata": {},
   "outputs": [],
   "source": []
  },
  {
   "cell_type": "code",
   "execution_count": null,
   "id": "cc38edf8-c8c0-471f-815a-ad016f4f9d22",
   "metadata": {},
   "outputs": [],
   "source": []
  }
 ],
 "metadata": {
  "kernelspec": {
   "display_name": "Python 3 (ipykernel)",
   "language": "python",
   "name": "python3"
  },
  "language_info": {
   "codemirror_mode": {
    "name": "ipython",
    "version": 3
   },
   "file_extension": ".py",
   "mimetype": "text/x-python",
   "name": "python",
   "nbconvert_exporter": "python",
   "pygments_lexer": "ipython3",
   "version": "3.8.8"
  }
 },
 "nbformat": 4,
 "nbformat_minor": 5
}
